{
 "cells": [
  {
   "cell_type": "markdown",
   "id": "organic-directory",
   "metadata": {},
   "source": [
    "# Predicting Heart Disease Using Machine Learning \n",
    "\n",
    "This noitebook liiks into various Python-based machine learning and data science libraries in an attempt to build a machine learning model capable of predicting whether or nmot someone has heart disease based on their medical attributes \n",
    "\n",
    "We're going to take the following approach:\n",
    "1. Problem Definition \n",
    "2. Data \n",
    "3. Evaluation\n",
    "4. Features \n",
    "5. Modeling \n",
    "6. Experimentation \n",
    "\n",
    "## 1. Problem Definition \n",
    "\n",
    "In a statement, \n",
    "> Given clinical parameters about a patient, can we predict whether or not they have heart disease?\n",
    "\n",
    "## 2. Data\n",
    "\n",
    "The original data came from the Cleavland data from the UCI Machine Learning Repository.\n",
    "https://archive.ics.uci.edu/ml/datasets/Heart+Disease\n",
    "\n",
    "There is also a version of it available on Kaggle. https://www.kaggle.com/ronitf/heart-disease-uci\n",
    "\n",
    "## 3. Evaluation \n",
    "\n",
    ">If we can reach 95% accuracy at predicting whether or not a patient has heart disease during the proof of concept, we'll pursue the project.\n",
    "\n",
    "## 4. Features \n",
    "\n",
    "THis is where you'll get different information about each of the features in your data. \n",
    "\n",
    "**Create data dictionary** \n",
    "\n",
    "*age\n",
    "*sex\n",
    "*chest pain type (4 values)\n",
    "*resting blood pressure\n",
    "*serum cholestoral in mg/dl\n",
    "*fasting blood sugar > 120 mg/dl\n",
    "*resting electrocardiographic results (values 0,1,2)\n",
    "*maximum heart rate achieved\n",
    "*exercise induced angina\n",
    "*oldpeak = ST depression induced by exercise relative to rest\n",
    "*the slope of the peak exercise ST segment\n",
    "*number of major vessels (0-3) colored by flourosopy\n",
    "*thal: 3 = normal; 6 = fixed defect; 7 = reversable defect\n",
    "\n",
    "## 5. "
   ]
  },
  {
   "cell_type": "code",
   "execution_count": null,
   "id": "invalid-bouquet",
   "metadata": {},
   "outputs": [],
   "source": []
  }
 ],
 "metadata": {
  "kernelspec": {
   "display_name": "Python 3",
   "language": "python",
   "name": "python3"
  },
  "language_info": {
   "codemirror_mode": {
    "name": "ipython",
    "version": 3
   },
   "file_extension": ".py",
   "mimetype": "text/x-python",
   "name": "python",
   "nbconvert_exporter": "python",
   "pygments_lexer": "ipython3",
   "version": "3.8.5"
  }
 },
 "nbformat": 4,
 "nbformat_minor": 5
}
